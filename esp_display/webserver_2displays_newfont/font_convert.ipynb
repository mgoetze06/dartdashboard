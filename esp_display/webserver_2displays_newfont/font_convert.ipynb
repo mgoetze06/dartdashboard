{
 "cells": [
  {
   "cell_type": "code",
   "execution_count": 31,
   "metadata": {},
   "outputs": [
    {
     "data": {
      "text/plain": [
       "<matplotlib.image.AxesImage at 0x18907221060>"
      ]
     },
     "execution_count": 31,
     "metadata": {},
     "output_type": "execute_result"
    },
    {
     "data": {
      "image/png": "[encoded data removed]",
      "text/plain": [
       "<Figure size 640x480 with 1 Axes>"
      ]
     },
     "metadata": {},
     "output_type": "display_data"
    }
   ],
   "source": [
    "import cv2\n",
    "import matplotlib.pyplot as plt\n",
    "from skimage import morphology,util,exposure\n",
    "import numpy as np\n",
    "\n",
    "def show_images(images, titles=None):\n",
    "    fig, ax = plt.subplots(ncols=len(images), figsize=(len(images)*5,5))\n",
    "\n",
    "    for idx, image in enumerate(images):\n",
    "        ax[idx].imshow(image, cmap='gray')\n",
    "        ax[idx].axis(False)\n",
    "        if(titles != None):\n",
    "            ax[idx].set_title(titles[idx])\n",
    "    return\n",
    "\n",
    "\n",
    "%matplotlib inline\n",
    "img = cv2.imread(\"32x53_numbers.bmp\",)\n",
    "#cv2.imshow(\"img\",img)\n",
    "#cv2.waitKey()\n",
    "plt.imshow(img)"
   ]
  },
  {
   "cell_type": "code",
   "execution_count": 32,
   "metadata": {},
   "outputs": [
    {
     "name": "stdout",
     "output_type": "stream",
     "text": [
      "(40, 320, 3)\n"
     ]
    }
   ],
   "source": [
    "print(img.shape)"
   ]
  },
  {
   "cell_type": "code",
   "execution_count": 33,
   "metadata": {},
   "outputs": [
    {
     "name": "stdout",
     "output_type": "stream",
     "text": [
      "(64, 32, 3)\n",
      "(64, 32)\n"
     ]
    },
    {
     "data": {
      "image/png": "[encoded data removed]",
      "text/plain": [
       "<Figure size 1000x500 with 2 Axes>"
      ]
     },
     "metadata": {},
     "output_type": "display_data"
    }
   ],
   "source": [
    "img2 = img[0:39,0:32,:]\n",
    "img2 = cv2.resize(img2,(32,64))\n",
    "im_gray = cv2.cvtColor(img2,cv2.COLOR_BGR2GRAY)\n",
    "img3 = morphology.binary_erosion(im_gray)\n",
    "img3 = util.invert(img3)\n",
    "img3 = exposure.rescale_intensity(img3, in_range=(0, 1), out_range=(0,1))\n",
    "#img3 = morphology.binary_erosion(img3)\n",
    "show_images([img2,img3])\n",
    "print(img2.shape)\n",
    "print(img3.shape)"
   ]
  },
  {
   "cell_type": "code",
   "execution_count": 34,
   "metadata": {},
   "outputs": [
    {
     "name": "stdout",
     "output_type": "stream",
     "text": [
      "(8, 16)\n",
      "(64, 32)\n",
      "[0.0.0.0.0.0.0.0.0.0.0.0.1.1.1.1.1.1.1.1.0.0.0.0.0.0.0.0.0.0.0.0.]\n",
      "[0.0.0.0.0.0.0.0.0.0.1.1.1.1.1.1.1.1.1.1.1.1.0.0.0.0.0.0.0.0.0.0.]\n",
      "[0.0.0.0.0.0.0.0.0.1.1.1.1.1.1.1.1.1.1.1.1.1.1.0.0.0.0.0.0.0.0.0.]\n",
      "[0.0.0.0.0.0.0.0.0.1.1.1.1.1.1.1.1.1.1.1.1.1.1.0.0.0.0.0.0.0.0.0.]\n",
      "[0.0.0.0.0.0.0.0.1.1.1.1.1.1.1.1.1.1.1.1.1.1.1.1.0.0.0.0.0.0.0.0.]\n",
      "[0.0.0.0.0.0.0.0.1.1.1.1.1.1.0.0.0.0.1.1.1.1.1.1.0.0.0.0.0.0.0.0.]\n",
      "[0.0.0.0.0.0.0.1.1.1.1.1.1.0.0.0.0.0.0.1.1.1.1.1.1.0.0.0.0.0.0.0.]\n",
      "[0.0.0.0.0.0.1.1.1.1.1.1.0.0.0.0.0.0.0.0.1.1.1.1.1.1.0.0.0.0.0.0.]\n",
      "[0.0.0.0.0.0.1.1.1.1.1.1.0.0.0.0.0.0.0.0.1.1.1.1.1.1.0.0.0.0.0.0.]\n",
      "[0.0.0.0.0.1.1.1.1.1.1.0.0.0.0.0.0.0.0.0.0.1.1.1.1.1.1.0.0.0.0.0.]\n",
      "[0.0.0.0.0.1.1.1.1.1.1.0.0.0.0.0.0.0.0.0.0.1.1.1.1.1.1.0.0.0.0.0.]\n",
      "[0.0.0.0.0.1.1.1.1.1.1.0.0.0.0.0.0.0.0.0.0.1.1.1.1.1.1.0.0.0.0.0.]\n",
      "[0.0.0.0.1.1.1.1.1.1.0.0.0.0.0.0.0.0.0.0.0.0.1.1.1.1.1.1.0.0.0.0.]\n",
      "[0.0.0.0.1.1.1.1.1.1.0.0.0.0.0.0.0.0.0.0.0.0.1.1.1.1.1.1.0.0.0.0.]\n",
      "[0.0.0.0.1.1.1.1.1.1.0.0.0.0.0.0.0.0.0.0.0.0.1.1.1.1.1.1.0.0.0.0.]\n",
      "[0.0.0.0.1.1.1.1.1.1.0.0.0.0.0.0.0.0.0.0.0.0.1.1.1.1.1.1.0.0.0.0.]\n"
     ]
    }
   ],
   "source": [
    "#arr = np.rot90(np.fliplr(img3))\n",
    "arr = img3\n",
    "\n",
    "print(arr.shape)\n",
    "#for y in range(8):\n",
    "for i in range(16):\n",
    "    #print(\" \".join(map(str,arr[i])))\n",
    "    #print(arr[i,y*8:(y+1)*8])\n",
    "    print(np.array2string(arr[i], precision=0, separator=''))"
   ]
  },
  {
   "cell_type": "code",
   "execution_count": 35,
   "metadata": {},
   "outputs": [
    {
     "name": "stdout",
     "output_type": "stream",
     "text": [
      "[0.0.0.0.1.1.1.1.1.1.0.0.0.0.0.0.0.0.0.0.0.0.1.1.1.1.1.1.0.0.0.0.]\n",
      "[0.0.0.1.1.1.1.1.1.1.0.0.0.0.0.0.0.0.0.0.0.0.1.1.1.1.1.1.1.0.0.0.]\n",
      "[0.0.0.1.1.1.1.1.1.1.0.0.0.0.0.0.0.0.0.0.0.0.1.1.1.1.1.1.1.0.0.0.]\n",
      "[0.0.0.1.1.1.1.1.1.0.0.0.0.0.0.0.0.0.0.0.0.0.0.1.1.1.1.1.1.0.0.0.]\n",
      "[0.0.0.1.1.1.1.1.1.0.0.0.0.0.0.0.0.0.0.0.0.0.0.1.1.1.1.1.1.0.0.0.]\n",
      "[0.0.0.1.1.1.1.1.1.0.0.0.0.0.0.0.0.0.0.0.0.0.0.1.1.1.1.1.1.0.0.0.]\n",
      "[0.0.0.1.1.1.1.1.1.0.0.0.0.0.0.0.0.0.0.0.0.0.0.1.1.1.1.1.1.0.0.0.]\n",
      "[0.0.0.1.1.1.1.1.1.0.0.0.0.0.0.0.0.0.0.0.0.0.0.1.1.1.1.1.1.0.0.0.]\n",
      "[0.0.1.1.1.1.1.1.1.0.0.0.0.0.0.0.0.0.0.0.0.0.0.1.1.1.1.1.1.1.0.0.]\n",
      "[0.0.1.1.1.1.1.1.1.0.0.0.0.0.0.0.0.0.0.0.0.0.0.1.1.1.1.1.1.1.0.0.]\n",
      "[0.0.1.1.1.1.1.1.1.0.0.0.0.0.0.0.0.0.0.0.0.0.0.1.1.1.1.1.1.1.0.0.]\n",
      "[0.0.1.1.1.1.1.1.1.0.0.0.0.0.0.0.0.0.0.0.0.0.0.1.1.1.1.1.1.1.0.0.]\n",
      "[0.0.1.1.1.1.1.1.1.0.0.0.0.0.0.0.0.0.0.0.0.0.0.1.1.1.1.1.1.1.0.0.]\n",
      "[0.0.1.1.1.1.1.1.1.0.0.0.0.0.0.0.0.0.0.0.0.0.0.1.1.1.1.1.1.1.0.0.]\n",
      "[0.0.1.1.1.1.1.1.1.0.0.0.0.0.0.0.0.0.0.0.0.0.0.1.1.1.1.1.1.1.0.0.]\n",
      "[0.0.1.1.1.1.1.1.1.0.0.0.0.0.0.0.0.0.0.0.0.0.0.1.1.1.1.1.1.1.0.0.]\n"
     ]
    }
   ],
   "source": [
    "for i in range(16):\n",
    "    #print(\" \".join(map(str,arr[i])))\n",
    "    #print(arr[i,y*8:(y+1)*8])\n",
    "    print(np.array2string(arr[16+i], precision=0, separator=''))"
   ]
  },
  {
   "cell_type": "code",
   "execution_count": 36,
   "metadata": {},
   "outputs": [
    {
     "name": "stdout",
     "output_type": "stream",
     "text": [
      "[0.0.1.1.1.1.1.1.1.0.0.0.0.0.0.0.0.0.0.0.0.0.0.1.1.1.1.1.1.1.0.0.]\n",
      "[0.0.1.1.1.1.1.1.1.0.0.0.0.0.0.0.0.0.0.0.0.0.0.1.1.1.1.1.1.1.0.0.]\n",
      "[0.0.1.1.1.1.1.1.1.0.0.0.0.0.0.0.0.0.0.0.0.0.0.1.1.1.1.1.1.1.0.0.]\n",
      "[0.0.1.1.1.1.1.1.1.0.0.0.0.0.0.0.0.0.0.0.0.0.0.1.1.1.1.1.1.1.0.0.]\n",
      "[0.0.1.1.1.1.1.1.1.0.0.0.0.0.0.0.0.0.0.0.0.0.0.1.1.1.1.1.1.1.0.0.]\n",
      "[0.0.1.1.1.1.1.1.1.0.0.0.0.0.0.0.0.0.0.0.0.0.0.1.1.1.1.1.1.1.0.0.]\n",
      "[0.0.1.1.1.1.1.1.1.0.0.0.0.0.0.0.0.0.0.0.0.0.0.1.1.1.1.1.1.1.0.0.]\n",
      "[0.0.1.1.1.1.1.1.1.0.0.0.0.0.0.0.0.0.0.0.0.0.0.1.1.1.1.1.1.1.0.0.]\n",
      "[0.0.0.1.1.1.1.1.1.0.0.0.0.0.0.0.0.0.0.0.0.0.0.1.1.1.1.1.1.0.0.0.]\n",
      "[0.0.0.1.1.1.1.1.1.0.0.0.0.0.0.0.0.0.0.0.0.0.0.1.1.1.1.1.1.0.0.0.]\n",
      "[0.0.0.1.1.1.1.1.1.0.0.0.0.0.0.0.0.0.0.0.0.0.0.1.1.1.1.1.1.0.0.0.]\n",
      "[0.0.0.1.1.1.1.1.1.0.0.0.0.0.0.0.0.0.0.0.0.0.0.1.1.1.1.1.1.0.0.0.]\n",
      "[0.0.0.1.1.1.1.1.1.0.0.0.0.0.0.0.0.0.0.0.0.0.0.1.1.1.1.1.1.0.0.0.]\n",
      "[0.0.0.1.1.1.1.1.1.1.0.0.0.0.0.0.0.0.0.0.0.0.1.1.1.1.1.1.1.0.0.0.]\n",
      "[0.0.0.1.1.1.1.1.1.1.0.0.0.0.0.0.0.0.0.0.0.0.1.1.1.1.1.1.1.0.0.0.]\n",
      "[0.0.0.0.1.1.1.1.1.1.0.0.0.0.0.0.0.0.0.0.0.0.1.1.1.1.1.1.0.0.0.0.]\n"
     ]
    }
   ],
   "source": [
    "for i in range(16):\n",
    "    #print(\" \".join(map(str,arr[i])))\n",
    "    #print(arr[i,y*8:(y+1)*8])\n",
    "    print(np.array2string(arr[32+i], precision=0, separator=''))"
   ]
  },
  {
   "cell_type": "code",
   "execution_count": 30,
   "metadata": {},
   "outputs": [
    {
     "name": "stdout",
     "output_type": "stream",
     "text": [
      "[0.0.0.0.1.1.1.1.1.1.0.0.0.0.0.0.0.0.0.0.0.0.1.1.1.1.1.1.0.0.0.0.]\n",
      "[0.0.0.0.1.1.1.1.1.1.0.0.0.0.0.0.0.0.0.0.0.0.1.1.1.1.1.1.0.0.0.0.]\n",
      "[0.0.0.0.1.1.1.1.1.1.0.0.0.0.0.0.0.0.0.0.0.0.1.1.1.1.1.1.0.0.0.0.]\n",
      "[0.0.0.0.1.1.1.1.1.1.0.0.0.0.0.0.0.0.0.0.0.0.1.1.1.1.1.1.0.0.0.0.]\n",
      "[0.0.0.0.0.1.1.1.1.1.1.0.0.0.0.0.0.0.0.0.0.1.1.1.1.1.1.0.0.0.0.0.]\n",
      "[0.0.0.0.0.1.1.1.1.1.1.0.0.0.0.0.0.0.0.0.0.1.1.1.1.1.1.0.0.0.0.0.]\n",
      "[0.0.0.0.0.1.1.1.1.1.1.0.0.0.0.0.0.0.0.0.0.1.1.1.1.1.1.0.0.0.0.0.]\n",
      "[0.0.0.0.0.0.1.1.1.1.1.1.0.0.0.0.0.0.0.0.1.1.1.1.1.1.0.0.0.0.0.0.]\n",
      "[0.0.0.0.0.0.1.1.1.1.1.1.0.0.0.0.0.0.0.0.1.1.1.1.1.1.0.0.0.0.0.0.]\n",
      "[0.0.0.0.0.0.0.1.1.1.1.1.1.0.0.0.0.0.0.1.1.1.1.1.1.0.0.0.0.0.0.0.]\n",
      "[0.0.0.0.0.0.0.0.1.1.1.1.1.1.0.0.0.0.1.1.1.1.1.1.0.0.0.0.0.0.0.0.]\n",
      "[0.0.0.0.0.0.0.0.1.1.1.1.1.1.1.1.1.1.1.1.1.1.1.1.0.0.0.0.0.0.0.0.]\n",
      "[0.0.0.0.0.0.0.0.0.1.1.1.1.1.1.1.1.1.1.1.1.1.1.0.0.0.0.0.0.0.0.0.]\n",
      "[0.0.0.0.0.0.0.0.0.1.1.1.1.1.1.1.1.1.1.1.1.1.1.0.0.0.0.0.0.0.0.0.]\n",
      "[0.0.0.0.0.0.0.0.0.0.1.1.1.1.1.1.1.1.1.1.1.1.0.0.0.0.0.0.0.0.0.0.]\n",
      "[0.0.0.0.0.0.0.0.0.0.0.0.1.1.1.1.1.1.1.1.0.0.0.0.0.0.0.0.0.0.0.0.]\n"
     ]
    }
   ],
   "source": [
    "for i in range(16):\n",
    "    #print(\" \".join(map(str,arr[i])))\n",
    "    #print(arr[i,y*8:(y+1)*8])\n",
    "    print(np.array2string(arr[48+i], precision=0, separator=''))"
   ]
  },
  {
   "cell_type": "code",
   "execution_count": 54,
   "metadata": {},
   "outputs": [
    {
     "name": "stdout",
     "output_type": "stream",
     "text": [
      "(16, 8)\n",
      "(16, 8)\n"
     ]
    },
    {
     "ename": "ValueError",
     "evalue": "all the input array dimensions for the concatenation axis must match exactly, but along dimension 1, the array at index 0 has size 0 and the array at index 1 has size 8",
     "output_type": "error",
     "traceback": [
      "\u001b[1;31m---------------------------------------------------------------------------\u001b[0m",
      "\u001b[1;31mValueError\u001b[0m                                Traceback (most recent call last)",
      "\u001b[1;32mc:\\projects\\DartDashboard\\esp_display\\webserver_2displays_newfont\\font_convert.ipynb Cell 8\u001b[0m in \u001b[0;36m2\n\u001b[0;32m     <a href='vscode-notebook-cell:/c%3A/projects/DartDashboard/esp_display/webserver_2displays_newfont/font_convert.ipynb#X10sZmlsZQ%3D%3D?line=15'>16</a>\u001b[0m         datablock_inv[i][\u001b[39m7\u001b[39m\u001b[39m-\u001b[39mj] \u001b[39m=\u001b[39m arr[j\u001b[39m+\u001b[39mk\u001b[39m*\u001b[39m\u001b[39m8\u001b[39m][i]\u001b[39m#\u001b[39;00m\n\u001b[0;32m     <a href='vscode-notebook-cell:/c%3A/projects/DartDashboard/esp_display/webserver_2displays_newfont/font_convert.ipynb#X10sZmlsZQ%3D%3D?line=16'>17</a>\u001b[0m     \u001b[39m#print(\" \".join(map(str,arr[i])))\u001b[39;00m\n\u001b[0;32m     <a href='vscode-notebook-cell:/c%3A/projects/DartDashboard/esp_display/webserver_2displays_newfont/font_convert.ipynb#X10sZmlsZQ%3D%3D?line=17'>18</a>\u001b[0m     \u001b[39m#print(arr[i,y*8:(y+1)*8])\u001b[39;00m\n\u001b[0;32m     <a href='vscode-notebook-cell:/c%3A/projects/DartDashboard/esp_display/webserver_2displays_newfont/font_convert.ipynb#X10sZmlsZQ%3D%3D?line=18'>19</a>\u001b[0m \u001b[39m#full_arr.append(datablock)\u001b[39;00m\n\u001b[1;32m---> <a href='vscode-notebook-cell:/c%3A/projects/DartDashboard/esp_display/webserver_2displays_newfont/font_convert.ipynb#X10sZmlsZQ%3D%3D?line=19'>20</a>\u001b[0m np\u001b[39m.\u001b[39;49mvstack((full_arr,datablock))\n\u001b[0;32m     <a href='vscode-notebook-cell:/c%3A/projects/DartDashboard/esp_display/webserver_2displays_newfont/font_convert.ipynb#X10sZmlsZQ%3D%3D?line=20'>21</a>\u001b[0m \u001b[39mprint\u001b[39m(datablock)\n\u001b[0;32m     <a href='vscode-notebook-cell:/c%3A/projects/DartDashboard/esp_display/webserver_2displays_newfont/font_convert.ipynb#X10sZmlsZQ%3D%3D?line=21'>22</a>\u001b[0m \u001b[39m#print(datablock_inv)\u001b[39;00m\n",
      "File \u001b[1;32m<__array_function__ internals>:180\u001b[0m, in \u001b[0;36mvstack\u001b[1;34m(*args, **kwargs)\u001b[0m\n",
      "File \u001b[1;32mc:\\Users\\Maurice\\AppData\\Local\\Programs\\Python\\Python310\\lib\\site-packages\\numpy\\core\\shape_base.py:282\u001b[0m, in \u001b[0;36mvstack\u001b[1;34m(tup)\u001b[0m\n\u001b[0;32m    280\u001b[0m \u001b[39mif\u001b[39;00m \u001b[39mnot\u001b[39;00m \u001b[39misinstance\u001b[39m(arrs, \u001b[39mlist\u001b[39m):\n\u001b[0;32m    281\u001b[0m     arrs \u001b[39m=\u001b[39m [arrs]\n\u001b[1;32m--> 282\u001b[0m \u001b[39mreturn\u001b[39;00m _nx\u001b[39m.\u001b[39;49mconcatenate(arrs, \u001b[39m0\u001b[39;49m)\n",
      "File \u001b[1;32m<__array_function__ internals>:180\u001b[0m, in \u001b[0;36mconcatenate\u001b[1;34m(*args, **kwargs)\u001b[0m\n",
      "\u001b[1;31mValueError\u001b[0m: all the input array dimensions for the concatenation axis must match exactly, but along dimension 1, the array at index 0 has size 0 and the array at index 1 has size 8"
     ]
    }
   ],
   "source": [
    "datablock = np.zeros((16,8))\n",
    "print(datablock.shape)\n",
    "datablock_inv = np.zeros((16,8))\n",
    "print(datablock_inv.shape)\n",
    "\n",
    "#datablock[0][0] = arr[0][0]\n",
    "#datablock[16][0] = arr[0][16]\n",
    "\n",
    "full_arr = []\n",
    "\n",
    "for k in range(0,3):\n",
    "    for i in range(16): #ein datablock hat 16 adressen\n",
    "        for j in range(8): #jede adresse des datablock enthält 8bits\n",
    "            \n",
    "            datablock[i][j] = arr[j+k*8][i]#\n",
    "            datablock_inv[i][7-j] = arr[j+k*8][i]#\n",
    "        #print(\" \".join(map(str,arr[i])))\n",
    "        #print(arr[i,y*8:(y+1)*8])\n",
    "    #full_arr.append(datablock)\n",
    "    np.vstack((full_arr,datablock))\n",
    "    print(datablock)\n",
    "    #print(datablock_inv)"
   ]
  },
  {
   "cell_type": "code",
   "execution_count": 53,
   "metadata": {},
   "outputs": [
    {
     "name": "stdout",
     "output_type": "stream",
     "text": [
      "[[0. 0. 0. 0. 0. 0. 0. 0.]\n",
      " [0. 0. 0. 0. 0. 0. 0. 0.]\n",
      " [0. 0. 0. 0. 0. 0. 0. 0.]\n",
      " [0. 1. 1. 1. 1. 1. 1. 1.]\n",
      " [1. 1. 1. 1. 1. 1. 1. 1.]\n",
      " [1. 1. 1. 1. 1. 1. 1. 1.]\n",
      " [1. 1. 1. 1. 1. 1. 1. 1.]\n",
      " [1. 1. 1. 1. 1. 1. 1. 1.]\n",
      " [1. 1. 1. 1. 1. 1. 1. 1.]\n",
      " [1. 1. 1. 0. 0. 0. 0. 0.]\n",
      " [0. 0. 0. 0. 0. 0. 0. 0.]\n",
      " [0. 0. 0. 0. 0. 0. 0. 0.]\n",
      " [0. 0. 0. 0. 0. 0. 0. 0.]\n",
      " [0. 0. 0. 0. 0. 0. 0. 0.]\n",
      " [0. 0. 0. 0. 0. 0. 0. 0.]\n",
      " [0. 0. 0. 0. 0. 0. 0. 0.]]\n"
     ]
    }
   ],
   "source": [
    "print(full_arr[0])"
   ]
  },
  {
   "cell_type": "code",
   "execution_count": null,
   "metadata": {},
   "outputs": [],
   "source": []
  }
 ],
 "metadata": {
  "kernelspec": {
   "display_name": "Python 3",
   "language": "python",
   "name": "python3"
  },
  "language_info": {
   "codemirror_mode": {
    "name": "ipython",
    "version": 3
   },
   "file_extension": ".py",
   "mimetype": "text/x-python",
   "name": "python",
   "nbconvert_exporter": "python",
   "pygments_lexer": "ipython3",
   "version": "3.10.8"
  },
  "orig_nbformat": 4
 },
 "nbformat": 4,
 "nbformat_minor": 2
}
